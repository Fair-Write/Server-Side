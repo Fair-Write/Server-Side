{
 "cells": [
  {
   "cell_type": "code",
   "execution_count": 35,
   "metadata": {},
   "outputs": [],
   "source": [
    "import language_tool_python\n",
    "import json\n",
    "import re\n",
    "\n",
    "tool = language_tool_python.LanguageTool('en-US')"
   ]
  },
  {
   "cell_type": "code",
   "execution_count": null,
   "metadata": {},
   "outputs": [],
   "source": [
    "def check_grammar_with_rationale(text):\n",
    "    # Check for grammar errors\n",
    "    matches = tool.check(text)\n",
    "    \n",
    "    # Store the corrections\n",
    "    corrections = []\n",
    "    \n",
    "    # Loop over all the grammar issues found\n",
    "    for match in matches:\n",
    "        # Extract the word index where the match occurs\n",
    "        start_index = match.offset\n",
    "        word_start = text.rfind(' ', 0, start_index) + 1\n",
    "        word_end = text.find(' ', start_index)\n",
    "        if word_end == -1:\n",
    "            word_end = len(text)\n",
    "        word = text[word_start:word_end]\n",
    "        \n",
    "        # Calculate the word index\n",
    "        words = text[:word_start].split()\n",
    "        word_index = len(words)  # Position of the current word in the text\n",
    "        \n",
    "        # Store the correction details\n",
    "        corrections.append({\n",
    "            \"word_index\": word_index,\n",
    "            \"original_word\": word,\n",
    "            \"message\": match.message,\n",
    "            \"replacements\": match.replacements,\n",
    "            \"error_type\": match.ruleId\n",
    "        })\n",
    "    \n",
    "    # Return the results in JSON format\n",
    "    return {\n",
    "        \"original_text\": text,\n",
    "        \"corrections\": corrections\n",
    "    }"
   ]
  },
  {
   "cell_type": "code",
   "execution_count": 37,
   "metadata": {},
   "outputs": [
    {
     "name": "stdout",
     "output_type": "stream",
     "text": [
      "{\n",
      "    \"original_text\": \"Yesterday, I was going to the store, and I buy some fruits. I picked apples and oranges because I like them. Then I go home and start cooking.\",\n",
      "    \"corrections\": []\n",
      "}\n"
     ]
    }
   ],
   "source": [
    "# Example text\n",
    "text = \"Yesterday, I was going to the store, and I buy some fruits. I picked apples and oranges because I like them. Then I go home and start cooking.\"\n",
    "\n",
    "# Run the grammar check\n",
    "grammar_output = check_grammar_with_rationale(text)\n",
    "\n",
    "# Print results\n",
    "print(json.dumps(grammar_output, indent=4))"
   ]
  },
  {
   "cell_type": "code",
   "execution_count": 62,
   "metadata": {},
   "outputs": [],
   "source": [
    "def check_grammar_with_replacements(text):\n",
    "    # Check for grammar issues using LanguageTool\n",
    "    matches = tool.check(text)\n",
    "    \n",
    "    # Split the text into words and calculate character ranges for each word\n",
    "    words = text.split()\n",
    "    word_ranges = []\n",
    "    current_offset = 0\n",
    "\n",
    "    for word in words:\n",
    "        start_offset = current_offset\n",
    "        end_offset = start_offset + len(word)\n",
    "        word_ranges.append((start_offset, end_offset))\n",
    "        current_offset = end_offset + 1  # Account for space after each word\n",
    "\n",
    "    # Prepare a list to store corrections\n",
    "    corrections = []\n",
    "\n",
    "    for match in matches:\n",
    "        # Extract information about the grammar issue\n",
    "        original_text = text[match.offset: match.offset + match.errorLength]\n",
    "\n",
    "        # Find the word index using word_ranges\n",
    "        word_index = next((i for i, (start, end) in enumerate(word_ranges) if start <= match.offset < end),-1)\n",
    "\n",
    "        # Construct the correction object\n",
    "        correction = {\n",
    "            \"word_index\": word_index,  # Word-based index\n",
    "            \"character_offset\": match.offset,  # Character-based offset\n",
    "            \"original_text\": original_text,\n",
    "            \"message\": match.message,\n",
    "            \"replacements\": match.replacements or [\"No suggestions\"],  # Handle empty replacements\n",
    "        }\n",
    "\n",
    "        corrections.append(correction)\n",
    "\n",
    "    # Return the corrections in a structured format\n",
    "    return {\n",
    "        \"original_text\": text,\n",
    "        \"corrections\": corrections\n",
    "    }\n",
    "\n"
   ]
  },
  {
   "cell_type": "code",
   "execution_count": 63,
   "metadata": {},
   "outputs": [
    {
     "name": "stdout",
     "output_type": "stream",
     "text": [
      "{\n",
      "    \"original_text\": \"The quickk brown fox jumps over the lazi dog.\",\n",
      "    \"corrections\": [\n",
      "        {\n",
      "            \"word_index\": 1,\n",
      "            \"character_offset\": 4,\n",
      "            \"original_text\": \"quickk\",\n",
      "            \"message\": \"Possible spelling mistake found.\",\n",
      "            \"replacements\": [\n",
      "                \"quick\"\n",
      "            ]\n",
      "        },\n",
      "        {\n",
      "            \"word_index\": 7,\n",
      "            \"character_offset\": 36,\n",
      "            \"original_text\": \"lazi\",\n",
      "            \"message\": \"Possible spelling mistake found.\",\n",
      "            \"replacements\": [\n",
      "                \"Nazi\",\n",
      "                \"lazy\",\n",
      "                \"Lazio\",\n",
      "                \"laze\",\n",
      "                \"AZI\",\n",
      "                \"LAZ\"\n",
      "            ]\n",
      "        }\n",
      "    ]\n",
      "}\n"
     ]
    }
   ],
   "source": [
    "text = \"The quickk brown fox jumps over the lazi dog.\"\n",
    "# text = \"He have a car and drive it everyday.\"\n",
    "\n",
    "# Call the function to get corrections\n",
    "result = check_grammar_with_replacements(text)\n",
    "\n",
    "# Print the results\n",
    "import json\n",
    "print(json.dumps(result, indent=4))"
   ]
  }
 ],
 "metadata": {
  "kernelspec": {
   "display_name": ".venv",
   "language": "python",
   "name": "python3"
  },
  "language_info": {
   "codemirror_mode": {
    "name": "ipython",
    "version": 3
   },
   "file_extension": ".py",
   "mimetype": "text/x-python",
   "name": "python",
   "nbconvert_exporter": "python",
   "pygments_lexer": "ipython3",
   "version": "3.12.6"
  }
 },
 "nbformat": 4,
 "nbformat_minor": 2
}
