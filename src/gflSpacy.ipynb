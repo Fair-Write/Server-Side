{
 "cells": [
  {
   "cell_type": "code",
   "execution_count": 10,
   "metadata": {},
   "outputs": [],
   "source": [
    "import spacy\n",
    "import csv\n",
    "\n",
    "nlp = spacy.load('en_core_web_sm')"
   ]
  },
  {
   "cell_type": "code",
   "execution_count": null,
   "metadata": {},
   "outputs": [],
   "source": [
    "def load_gendered_terms(csv_filename):\n",
    "    gendered_terms = {}\n",
    "    with open(csv_filename, 'r') as csvfile:\n",
    "        reader = csv.reader(csvfile)\n",
    "        for row in reader:\n",
    "            gendered_terms[row[0]] = row[1]\n",
    "    return gendered_terms\n",
    "\n",
    "def adjust_capitalization(original, replacement):\n",
    "    \"\"\"Preserve capitalization of the original word in the replacement.\"\"\"\n",
    "    if original.isupper():\n",
    "        return replacement.upper()\n",
    "    elif original.istitle():\n",
    "        return replacement.capitalize()\n",
    "    else:\n",
    "        return replacement\n",
    "\n",
    "def make_gender_fair(text):\n",
    "    gendered_terms = load_gendered_terms('gendered_terms.csv')\n",
    "\n",
    "    # Process the corrected text with spaCy\n",
    "    doc = nlp(text)\n",
    "\n",
    "    # Replace gendered terms\n",
    "    revised_tokens = [\n",
    "        adjust_capitalization(token.text, gendered_terms.get(token.text.lower(), token.text))\n",
    "        for token in doc\n",
    "    ]\n",
    "\n",
    "    return \" \".join(revised_tokens)"
   ]
  },
  {
   "cell_type": "code",
   "execution_count": 13,
   "metadata": {},
   "outputs": [
    {
     "name": "stdout",
     "output_type": "stream",
     "text": [
      "Original Text:\n",
      "My mother is a fireman and she was a lovely parent to us.\n",
      "\n",
      "Revised Text:\n",
      "My mother is a firefighter and they was a lovely parent to us .\n"
     ]
    }
   ],
   "source": [
    "# Example usage\n",
    "text = \"My mother is a fireman and she was a lovely parent to us.\"\n",
    "# text = \"\"\"\n",
    "# In times of emergency, firemen are the brave ones who risk their lives to save others, while policemen work tirelessly to enforce law and order; on our streets. These men are just naturally inclined towards such roles, given there physical strength and courage. Firemen and policemen undergo rigorous training that prepares them for the challenging situations they face everyday, showing that some jobs simply fit men better. Women might work as policewomen or lady firefighters, but its often a tough fit for them as compared to their male colleagues. In the business world, a successful businessman is admire for his ability to negotiate and lead a team effectively. Many companies prefer male chairmen since they are known for their decisiveness and strategic thinking. Even at lower levels, salesmen is often seen as more persuasive than their female counterparts, as people tend to trust men in these roles. Women on the other hand, usually pursue careers as secretaries or assistants, providing the vital support to their male bosses whom handle the main responsibilities.\n",
    "# \"\"\"\n",
    "revised_text = make_gender_fair(text)\n",
    "print(\"Original Text:\")\n",
    "print(text)\n",
    "print(\"\\nRevised Text:\")\n",
    "print(revised_text)\n"
   ]
  },
  {
   "cell_type": "code",
   "execution_count": 1,
   "metadata": {},
   "outputs": [],
   "source": [
    "import csv\n",
    "\n",
    "gendered_terms = {\n",
    "    \"he\": \"they\", \n",
    "    \"him\": \"them\", \n",
    "    \"his\": \"their\", \n",
    "    \"he's\": \"they're\",\n",
    "    \"she\": \"they\", \n",
    "    \"her\": \"their\", \n",
    "    \"hers\": \"theirs\",\n",
    "    \"she's\": \"they're\",\n",
    "    \"man\": \"person\", \n",
    "    \"woman\": \"person\",\n",
    "    \"waiter\": \"server\",\n",
    "    \"waitress\": \"server\",\n",
    "    \"actress\": \"actor\",\n",
    "    \"policemen\": \"police officer\",\n",
    "    \"policeman\": \"police officer\",\n",
    "    \"policewoman\": \"police officer\",\n",
    "    \"fireman\": \"firefighter\",\n",
    "    \"firemen\": \"firefighter\",\n",
    "    \"firewoman\": \"firefighter\",\n",
    "    \"chairman\": \"chairperson\", \n",
    "    \"chairwoman\": \"chairperson\",\n",
    "    \"businessman\": \"businessperson\", \n",
    "    \"businesswoman\": \"businessperson\",\n",
    "    \"mankind\": \"humankind\",\n",
    "    \"spokesman\": \"spokesperson\",\n",
    "    \"salesman\": \"salesperson\",\n",
    "    \"postman\": \"postal worker\",\n",
    "    \"landlord\": \"property owner\",\n",
    "    \"landlady\": \"property owner\",\n",
    "    \"stewardess\": \"flight attendant\",\n",
    "    \"steward\": \"flight attendant\",\n",
    "    \"mailman\": \"postal worker\",\n",
    "    \"mailwoman\": \"postal worker\",\n",
    "    \"freshman\": \"first-year student\",\n",
    "    \"upperclassman\": \"student\",\n",
    "    \"middleman\": \"intermediary\",\n",
    "    \"workman\": \"worker\",\n",
    "    \"workwoman\": \"worker\",\n",
    "    \"cameraman\": \"camera operator\",\n",
    "    \"camerawoman\": \"camera operator\",\n",
    "    \"repairman\": \"repairer\",\n",
    "    \"repairwoman\": \"repairer\",\n",
    "    \"man\": \"person\",    \n",
    "}\n",
    "\n",
    "with open('gendered_terms.csv', 'w', newline='') as csvfile:\n",
    "    writer = csv.writer(csvfile)\n",
    "    for key, value in gendered_terms.items():\n",
    "        writer.writerow([key, value])"
   ]
  }
 ],
 "metadata": {
  "kernelspec": {
   "display_name": ".venv",
   "language": "python",
   "name": "python3"
  },
  "language_info": {
   "codemirror_mode": {
    "name": "ipython",
    "version": 3
   },
   "file_extension": ".py",
   "mimetype": "text/x-python",
   "name": "python",
   "nbconvert_exporter": "python",
   "pygments_lexer": "ipython3",
   "version": "3.12.6"
  }
 },
 "nbformat": 4,
 "nbformat_minor": 2
}
