{
 "cells": [
  {
   "cell_type": "code",
   "execution_count": 1,
   "metadata": {},
   "outputs": [],
   "source": [
    "import ollama"
   ]
  },
  {
   "cell_type": "code",
   "execution_count": 2,
   "metadata": {},
   "outputs": [],
   "source": [
    "def generate_gfl(input_text):\n",
    "    prompt = f\"\"\"\n",
    "    ***Input Text:*** \"{input_text}\"\n",
    "\n",
    "    ***Main Task:***\n",
    "    Revise the above text to use gender-fair language.\n",
    "\n",
    "    ***Instructions:***\n",
    "    - Maintain the original meaning.\n",
    "    - Correct any grammatical or spelling errors.\n",
    "    - Return only the revised text without additional notes.\n",
    "    \"\"\"\n",
    "\n",
    "    try:\n",
    "        modified_statement = ollama.generate(model='llama3.2', prompt=prompt)\n",
    "        print(modified_statement)\n",
    "        print(modified_statement['response'])\n",
    "\n",
    "    except Exception as e:\n",
    "        print(\"Error:\", e)"
   ]
  },
  {
   "cell_type": "code",
   "execution_count": 3,
   "metadata": {},
   "outputs": [
    {
     "name": "stdout",
     "output_type": "stream",
     "text": [
      "{'model': 'llama3.2', 'created_at': '2024-11-26T22:12:57.2666393Z', 'response': '\"The firefighter rushed into the burning building to save the cat.\"', 'done': True, 'done_reason': 'stop', 'context': [128006, 9125, 128007, 271, 38766, 1303, 33025, 2696, 25, 6790, 220, 2366, 18, 271, 128009, 128006, 882, 128007, 1432, 262, 17601, 2566, 2991, 25, 12488, 330, 791, 4027, 1543, 33341, 1139, 279, 20252, 4857, 311, 3665, 279, 8415, 2266, 262, 17601, 6334, 5546, 25, 34184, 262, 10315, 1082, 279, 3485, 1495, 311, 1005, 10026, 2269, 1334, 4221, 382, 262, 17601, 56391, 25, 34184, 262, 482, 87477, 279, 4113, 7438, 627, 262, 482, 41070, 904, 69225, 62172, 477, 43529, 6103, 627, 262, 482, 3494, 1193, 279, 32828, 1495, 2085, 5217, 8554, 627, 257, 128009, 128006, 78191, 128007, 271, 10227, 95265, 33341, 1139, 279, 20252, 4857, 311, 3665, 279, 8415, 1210], 'total_duration': 9652309100, 'load_duration': 4062262600, 'prompt_eval_count': 98, 'prompt_eval_duration': 3552000000, 'eval_count': 13, 'eval_duration': 1145000000}\n",
      "\"The firefighter rushed into the burning building to save the cat.\"\n",
      "None\n"
     ]
    }
   ],
   "source": [
    "text = \"The fireman rushed into the burning building to save the cat.\"\n",
    "print(generate_gfl(text))"
   ]
  },
  {
   "cell_type": "code",
   "execution_count": 5,
   "metadata": {},
   "outputs": [],
   "source": [
    "def generate_gfl_phi3(input_text):\n",
    "    prompt = f\"\"\"\n",
    "    ***Input Text:*** \"{input_text}\"\n",
    "\n",
    "    ***Main Task:***\n",
    "    Revise the above text to use gender-fair language.\n",
    "\n",
    "    ***Instructions:***\n",
    "    - Maintain the original meaning.\n",
    "    - Correct any grammatical or spelling errors.\n",
    "    - Return only the revised text without additional notes.\n",
    "    \"\"\"\n",
    "\n",
    "    try:\n",
    "        modified_statement = ollama.generate(model='phi3.5', prompt=prompt)\n",
    "        print(modified_statement)\n",
    "        print(modified_statement['response'])\n",
    "\n",
    "    except Exception as e:\n",
    "        print(\"Error:\", e)"
   ]
  },
  {
   "cell_type": "code",
   "execution_count": 6,
   "metadata": {},
   "outputs": [
    {
     "name": "stdout",
     "output_type": "stream",
     "text": [
      "{'model': 'phi3.5', 'created_at': '2024-11-26T22:14:27.4847614Z', 'response': '\"The firefighter rushed into the burning building to save the cat.\"\\n\\n\\nIn this revision, \\'fireman\\' is changed to \\'firefighter,\\' a gender-neutral term that maintains professionalism while being inclusive of all genders. This ensures language fairness without altering any grammatical structure or spelling from the original text and retains its primary meaning—a firefighting individual actively engaged in rescue efforts within an emergency scenario involving a pet, specifically a cat.', 'done': True, 'done_reason': 'stop', 'context': [32010, 29871, 13, 13, 1678, 18610, 4290, 3992, 29901, 17435, 376, 1576, 3974, 1171, 364, 15392, 964, 278, 25535, 5214, 304, 4078, 278, 6635, 1213, 13, 13, 1678, 18610, 6330, 9330, 29901, 17435, 13, 1678, 11459, 895, 278, 2038, 1426, 304, 671, 23346, 29899, 29888, 1466, 4086, 29889, 13, 13, 1678, 18610, 3379, 582, 1953, 29901, 17435, 13, 1678, 448, 341, 2365, 475, 278, 2441, 6593, 29889, 13, 1678, 448, 28518, 738, 14961, 2922, 936, 470, 805, 7807, 4436, 29889, 13, 1678, 448, 7106, 871, 278, 337, 11292, 1426, 1728, 5684, 11486, 29889, 13, 268, 32007, 29871, 13, 32001, 29871, 13, 29908, 1576, 3974, 1003, 29882, 357, 364, 15392, 964, 278, 25535, 5214, 304, 4078, 278, 6635, 1213, 13, 13, 13, 797, 445, 26554, 29892, 525, 8696, 1171, 29915, 338, 3939, 304, 525, 8696, 1003, 29882, 357, 5501, 263, 23346, 29899, 17821, 1705, 1840, 393, 7344, 29879, 10257, 1608, 1550, 1641, 20978, 573, 310, 599, 330, 21043, 29889, 910, 5662, 1973, 4086, 6534, 2264, 1728, 10551, 292, 738, 14961, 2922, 936, 3829, 470, 805, 7807, 515, 278, 2441, 1426, 322, 11551, 29879, 967, 7601, 6593, 30003, 29874, 3974, 29888, 523, 292, 5375, 1044, 3598, 17785, 297, 26429, 14231, 2629, 385, 11176, 14703, 10483, 21677, 263, 5697, 29892, 10816, 263, 6635, 29889], 'total_duration': 22830045100, 'load_duration': 4425016000, 'prompt_eval_count': 101, 'prompt_eval_duration': 5191000000, 'eval_count': 111, 'eval_duration': 13154000000}\n",
      "\"The firefighter rushed into the burning building to save the cat.\"\n",
      "\n",
      "\n",
      "In this revision, 'fireman' is changed to 'firefighter,' a gender-neutral term that maintains professionalism while being inclusive of all genders. This ensures language fairness without altering any grammatical structure or spelling from the original text and retains its primary meaning—a firefighting individual actively engaged in rescue efforts within an emergency scenario involving a pet, specifically a cat.\n",
      "None\n"
     ]
    }
   ],
   "source": [
    "text = \"The fireman rushed into the burning building to save the cat.\"\n",
    "print(generate_gfl_phi3(text))"
   ]
  },
  {
   "cell_type": "code",
   "execution_count": 10,
   "metadata": {},
   "outputs": [],
   "source": [
    "def paraphrase_question(input_text):\n",
    "    # Define the prompt for paraphrasing\n",
    "    prompt = f\"Paraphrase the question in simple way: {input_text}\"\n",
    "\n",
    "    try:\n",
    "        modified_statement = ollama.generate(model='phi3.5', prompt=prompt)\n",
    "        print(modified_statement)\n",
    "        print(modified_statement['response'])\n",
    "\n",
    "    except Exception as e:\n",
    "        print(\"Error:\", e)"
   ]
  },
  {
   "cell_type": "code",
   "execution_count": 19,
   "metadata": {},
   "outputs": [
    {
     "name": "stdout",
     "output_type": "stream",
     "text": [
      "{'model': 'phi3.5', 'created_at': '2024-11-24T16:52:49.3375023Z', 'response': \"What primarily contributes to changes in our planet' extraterrestrial weather patterns and temperatures, commonly known as global warming or climate shift?\", 'done': True, 'done_reason': 'stop', 'context': [32010, 29871, 13, 2177, 481, 1092, 559, 278, 1139, 297, 2560, 982, 29901, 1724, 526, 278, 1667, 9946, 310, 23622, 1735, 29973, 32007, 29871, 13, 32001, 29871, 13, 5618, 19434, 640, 5026, 304, 3620, 297, 1749, 15754, 29915, 17541, 1008, 5060, 9315, 14826, 15038, 322, 6238, 3698, 29892, 15574, 2998, 408, 5534, 1370, 4056, 470, 23622, 9500, 29973], 'total_duration': 2737590700, 'load_duration': 6463200, 'prompt_eval_count': 28, 'prompt_eval_duration': 131000000, 'eval_count': 31, 'eval_duration': 2599000000}\n",
      "What primarily contributes to changes in our planet' extraterrestrial weather patterns and temperatures, commonly known as global warming or climate shift?\n"
     ]
    }
   ],
   "source": [
    "sample_question = \"What are the main causes of climate change?\"\n",
    "paraphrase_question(sample_question)\n",
    "\n"
   ]
  },
  {
   "cell_type": "code",
   "execution_count": 23,
   "metadata": {},
   "outputs": [
    {
     "name": "stdout",
     "output_type": "stream",
     "text": [
      "{'model': 'phi3.5', 'created_at': '2024-11-24T17:27:41.3082616Z', 'response': 'The firefigthy officer swiftly entered the engulfed structure to rescue the feline. (Note that while \"firethyth\" is a creative, non-standard term for \\'firefighter,\\' in formal and gender fair language usage one would typically use either male or female pronouns interchangeably without reinforcing stereotypes.)\\n\\nHere\\'s an alternative revision: The firefigthy officer rushed into the burning building to save the cat. This maintains a neutral tone, avoiding any indication of gender by simply using \"officer,\" which is non-gendered and appropriate for all professions in this context without implying anything about societal roles or expectations related to firefighting:\\n\\nAlternatively, if aiming strictly at inclusivity regarding contemporary discussions around pronouns (and assuming that the person being referred can self-identify): \"They rushed into the burning building to save the cat.\" This acknowledges nonbinary gender identities while still maintaining professionalism and clarity in communication.\\n\\nBoth revisions aim for a balance between technical accuracy, respectful language use concerning fire service professionals\\' roles (who should be referred consistently with their proper job title such as \"firefighter\"), and sensitivity to inclusive gender-neutral expression without altering the original intent of performing an urgent rescue mission.', 'done': True, 'done_reason': 'stop', 'context': [32010, 29871, 13, 1123, 29894, 895, 372, 304, 23346, 6534, 4086, 29901, 450, 3974, 1171, 364, 15392, 964, 278, 25535, 5214, 304, 4078, 278, 6635, 29889, 32007, 29871, 13, 32001, 29871, 13, 1576, 3974, 1003, 21155, 12139, 12086, 368, 7802, 278, 3033, 16302, 287, 3829, 304, 26429, 278, 285, 5570, 29889, 313, 9842, 393, 1550, 376, 8696, 386, 1541, 29908, 338, 263, 907, 1230, 29892, 1661, 29899, 15770, 1840, 363, 525, 8696, 1003, 29882, 357, 5501, 297, 11595, 322, 23346, 6534, 4086, 8744, 697, 723, 12234, 671, 2845, 14263, 470, 12944, 11504, 1309, 29879, 1006, 3167, 2197, 1728, 15561, 1454, 3277, 269, 12358, 327, 7384, 1846, 13, 13, 10605, 29915, 29879, 385, 8671, 26554, 29901, 450, 3974, 1003, 21155, 12139, 364, 15392, 964, 278, 25535, 5214, 304, 4078, 278, 6635, 29889, 910, 7344, 29879, 263, 21104, 16225, 29892, 4772, 292, 738, 4221, 362, 310, 23346, 491, 3763, 773, 376, 29877, 2416, 261, 1699, 607, 338, 1661, 29899, 26098, 287, 322, 8210, 363, 599, 2600, 10964, 297, 445, 3030, 1728, 2411, 5890, 3099, 1048, 5374, 26310, 16178, 470, 2149, 800, 4475, 304, 3974, 29888, 523, 292, 29901, 13, 13, 2499, 725, 6703, 29892, 565, 12242, 292, 18719, 472, 20978, 2068, 11211, 24952, 5353, 1080, 2820, 11504, 1309, 29879, 313, 392, 10241, 393, 278, 2022, 1641, 12992, 508, 1583, 29899, 1693, 1598, 1125, 376, 15597, 364, 15392, 964, 278, 25535, 5214, 304, 4078, 278, 6635, 1213, 910, 24084, 2710, 1661, 19541, 23346, 2893, 1907, 1550, 1603, 7344, 292, 10257, 1608, 322, 7542, 537, 297, 12084, 29889, 13, 13, 29933, 720, 23484, 1080, 12242, 363, 263, 17346, 1546, 16905, 13600, 29892, 3390, 1319, 4086, 671, 19813, 3974, 2669, 6351, 1338, 29915, 16178, 313, 15970, 881, 367, 12992, 5718, 2705, 411, 1009, 1571, 4982, 3611, 1316, 408, 376, 8696, 1003, 29882, 357, 4968, 322, 4771, 24858, 304, 20978, 573, 23346, 29899, 17821, 1705, 4603, 1728, 10551, 292, 278, 2441, 7609, 310, 15859, 385, 5065, 5362, 26429, 10655, 29889], 'total_duration': 40042084900, 'load_duration': 4201801000, 'prompt_eval_count': 32, 'prompt_eval_duration': 1684000000, 'eval_count': 293, 'eval_duration': 34107000000}\n",
      "The firefigthy officer swiftly entered the engulfed structure to rescue the feline. (Note that while \"firethyth\" is a creative, non-standard term for 'firefighter,' in formal and gender fair language usage one would typically use either male or female pronouns interchangeably without reinforcing stereotypes.)\n",
      "\n",
      "Here's an alternative revision: The firefigthy officer rushed into the burning building to save the cat. This maintains a neutral tone, avoiding any indication of gender by simply using \"officer,\" which is non-gendered and appropriate for all professions in this context without implying anything about societal roles or expectations related to firefighting:\n",
      "\n",
      "Alternatively, if aiming strictly at inclusivity regarding contemporary discussions around pronouns (and assuming that the person being referred can self-identify): \"They rushed into the burning building to save the cat.\" This acknowledges nonbinary gender identities while still maintaining professionalism and clarity in communication.\n",
      "\n",
      "Both revisions aim for a balance between technical accuracy, respectful language use concerning fire service professionals' roles (who should be referred consistently with their proper job title such as \"firefighter\"), and sensitivity to inclusive gender-neutral expression without altering the original intent of performing an urgent rescue mission.\n"
     ]
    }
   ],
   "source": [
    "def paraphrase_gender_fair(input_text):\n",
    "    # Define the prompt for paraphrasing\n",
    "    prompt = f\"Revise it to gender fair language: {input_text}\"\n",
    "    try:\n",
    "        modified_statement = ollama.generate(model='phi3.5', prompt=prompt)\n",
    "        print(modified_statement)\n",
    "        print(modified_statement['response'])\n",
    "\n",
    "    except Exception as e:\n",
    "        print(\"Error:\", e)\n",
    "        \n",
    "\n",
    "sample_text = \"The fireman rushed into the burning building to save the cat.\"\n",
    "paraphrase_gender_fair(sample_text)"
   ]
  },
  {
   "cell_type": "code",
   "execution_count": null,
   "metadata": {},
   "outputs": [],
   "source": []
  }
 ],
 "metadata": {
  "kernelspec": {
   "display_name": ".venv",
   "language": "python",
   "name": "python3"
  },
  "language_info": {
   "codemirror_mode": {
    "name": "ipython",
    "version": 3
   },
   "file_extension": ".py",
   "mimetype": "text/x-python",
   "name": "python",
   "nbconvert_exporter": "python",
   "pygments_lexer": "ipython3",
   "version": "3.12.6"
  }
 },
 "nbformat": 4,
 "nbformat_minor": 2
}
